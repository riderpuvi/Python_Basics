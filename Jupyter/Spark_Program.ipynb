{
 "cells": [
  {
   "cell_type": "code",
   "execution_count": 1,
   "id": "b36682a0",
   "metadata": {
    "scrolled": true
   },
   "outputs": [
    {
     "name": "stdout",
     "output_type": "stream",
     "text": [
      "Collecting pyspark\n",
      "  Downloading pyspark-3.3.0.tar.gz (281.3 MB)\n",
      "     -------------------------------------- 281.3/281.3 MB 1.7 MB/s eta 0:00:00\n",
      "  Preparing metadata (setup.py): started\n",
      "  Preparing metadata (setup.py): finished with status 'done'\n",
      "Collecting py4j==0.10.9.5\n",
      "  Downloading py4j-0.10.9.5-py2.py3-none-any.whl (199 kB)\n",
      "     -------------------------------------- 199.7/199.7 kB 2.0 MB/s eta 0:00:00\n",
      "Using legacy 'setup.py install' for pyspark, since package 'wheel' is not installed.\n",
      "Installing collected packages: py4j, pyspark\n",
      "  Running setup.py install for pyspark: started\n",
      "  Running setup.py install for pyspark: still running...\n",
      "  Running setup.py install for pyspark: finished with status 'done'\n",
      "Successfully installed py4j-0.10.9.5 pyspark-3.3.0\n",
      "Note: you may need to restart the kernel to use updated packages.\n"
     ]
    }
   ],
   "source": [
    "pip install pyspark\n"
   ]
  },
  {
   "cell_type": "code",
   "execution_count": 2,
   "id": "8803d8e2",
   "metadata": {},
   "outputs": [
    {
     "name": "stdout",
     "output_type": "stream",
     "text": [
      "Collecting findspark\n",
      "  Downloading findspark-2.0.1-py2.py3-none-any.whl (4.4 kB)\n",
      "Installing collected packages: findspark\n",
      "Successfully installed findspark-2.0.1\n",
      "Note: you may need to restart the kernel to use updated packages.\n"
     ]
    }
   ],
   "source": [
    "pip install findspark\n"
   ]
  },
  {
   "cell_type": "code",
   "execution_count": 7,
   "id": "2c85284d",
   "metadata": {},
   "outputs": [],
   "source": [
    "import pyspark\n",
    "from pyspark.sql import SparkSession\n",
    "import findspark\n",
    "findspark.init()"
   ]
  },
  {
   "cell_type": "code",
   "execution_count": 8,
   "id": "319c9398",
   "metadata": {},
   "outputs": [
    {
     "name": "stdout",
     "output_type": "stream",
     "text": [
      "<pyspark.sql.session.SparkSession object at 0x000002D6DB0B3F70>\n"
     ]
    },
    {
     "data": {
      "text/html": [
       "\n",
       "            <div>\n",
       "                <p><b>SparkSession - in-memory</b></p>\n",
       "                \n",
       "        <div>\n",
       "            <p><b>SparkContext</b></p>\n",
       "\n",
       "            <p><a href=\"http://AZURE-SSH02NNN2.ap.lilly.com:4040\">Spark UI</a></p>\n",
       "\n",
       "            <dl>\n",
       "              <dt>Version</dt>\n",
       "                <dd><code>v3.3.0</code></dd>\n",
       "              <dt>Master</dt>\n",
       "                <dd><code>local[*]</code></dd>\n",
       "              <dt>AppName</dt>\n",
       "                <dd><code>app</code></dd>\n",
       "            </dl>\n",
       "        </div>\n",
       "        \n",
       "            </div>\n",
       "        "
      ],
      "text/plain": [
       "<pyspark.sql.session.SparkSession at 0x2d6db0b3f70>"
      ]
     },
     "execution_count": 8,
     "metadata": {},
     "output_type": "execute_result"
    }
   ],
   "source": [
    "session = SparkSession.builder.appName('app').getOrCreate()\n",
    "print(session)\n",
    "session"
   ]
  },
  {
   "cell_type": "code",
   "execution_count": 9,
   "id": "d62f59e6",
   "metadata": {},
   "outputs": [
    {
     "name": "stdout",
     "output_type": "stream",
     "text": [
      "<class 'list'>\n",
      "[('Finance', 10), ('Marketing', 20), ('HR', 30), ('Sales', 50), ('Support', 40), ('IT', 60), ('Admin', 70), ('Revenue', 80)]\n",
      "[('Finance', 10), ('Marketing', 20)]\n",
      "RDD Count: 8\n",
      "defaultdict(<class 'int'>, {'Finance': 1, 'Marketing': 1, 'HR': 1, 'Sales': 1, 'Support': 1, 'IT': 1, 'Admin': 1, 'Revenue': 1})\n",
      "[('HR', 30), ('Sales', 50), ('Support', 40), ('IT', 60), ('Admin', 70), ('Revenue', 80)]\n",
      "[('Sales', 50), ('Support', 40), ('IT', 60), ('Admin', 70), ('Revenue', 80)]\n"
     ]
    }
   ],
   "source": [
    "dept=[(\"Finance\",10),(\"Marketing\",20),(\"HR\",30),(\"Sales\",50),(\"Support\",40),(\"IT\",60),(\"Admin\",70),(\"Revenue\",80)]\n",
    "rdd=session.sparkContext.parallelize(dept)\n",
    "print(type(dept))\n",
    "print(rdd.collect())\n",
    "print(rdd.take(2))\n",
    "print(\"RDD Count:\", rdd.count())\n",
    "print(rdd.countByKey())\n",
    "result = (rdd.filter(lambda x: x[1] > 20).collect())\n",
    "print(result)\n",
    "rdd1 = session.sparkContext.parallelize(result)\n",
    "result2 = (rdd1.filter(lambda x: x[1] > 30).collect())\n",
    "print(result2)"
   ]
  },
  {
   "cell_type": "code",
   "execution_count": 10,
   "id": "353a7111",
   "metadata": {},
   "outputs": [
    {
     "name": "stdout",
     "output_type": "stream",
     "text": [
      "8\n",
      "2\n",
      "DataFrame[_1: string, _2: bigint]\n",
      "+---------+---+\n",
      "|_1       |_2 |\n",
      "+---------+---+\n",
      "|Finance  |10 |\n",
      "|Marketing|20 |\n",
      "|HR       |30 |\n",
      "|Sales    |50 |\n",
      "|Support  |40 |\n",
      "|IT       |60 |\n",
      "|Admin    |70 |\n",
      "|Revenue  |80 |\n",
      "+---------+---+\n",
      "\n"
     ]
    }
   ],
   "source": [
    "print(rdd.getNumPartitions())\n",
    "rdd3 = rdd.coalesce(2)\n",
    "print(rdd3.getNumPartitions())\n",
    "a=rdd3.toDF()\n",
    "print(a)\n",
    "a.show(truncate=False)"
   ]
  },
  {
   "cell_type": "code",
   "execution_count": 12,
   "id": "4b5ec767",
   "metadata": {},
   "outputs": [
    {
     "name": "stdout",
     "output_type": "stream",
     "text": [
      "RDD Num Partitions: 2\n"
     ]
    }
   ],
   "source": [
    "print('RDD Num Partitions:', rdd3.getNumPartitions())"
   ]
  },
  {
   "cell_type": "code",
   "execution_count": 13,
   "id": "44863644",
   "metadata": {},
   "outputs": [
    {
     "name": "stdout",
     "output_type": "stream",
     "text": [
      "DataFrame[_1: string, _2: bigint]\n",
      "<class 'pyspark.sql.dataframe.DataFrame'>\n"
     ]
    }
   ],
   "source": [
    "a = rdd.toDF()\n",
    "print(a)\n",
    "print(type(a))"
   ]
  },
  {
   "cell_type": "code",
   "execution_count": 19,
   "id": "0bd3158a",
   "metadata": {},
   "outputs": [
    {
     "name": "stdout",
     "output_type": "stream",
     "text": [
      "+---------+---+\n",
      "|Name     |id |\n",
      "+---------+---+\n",
      "|Finance  |10 |\n",
      "|Marketing|20 |\n",
      "|HR       |30 |\n",
      "|Sales    |50 |\n",
      "|Support  |40 |\n",
      "|IT       |60 |\n",
      "|Admin    |70 |\n",
      "|Revenue  |80 |\n",
      "+---------+---+\n",
      "\n",
      "+-------+---+\n",
      "|Name   |id |\n",
      "+-------+---+\n",
      "|Finance|10 |\n",
      "+-------+---+\n",
      "\n"
     ]
    },
    {
     "data": {
      "text/plain": [
       "DataFrame[Name: string, id: bigint]"
      ]
     },
     "execution_count": 19,
     "metadata": {},
     "output_type": "execute_result"
    }
   ],
   "source": [
    "a.show(truncate=False)\n",
    "columns = [\"Name\", \"id\"]\n",
    "a = session.createDataFrame(data=dept,schema=columns)\n",
    "a.filter(a.id == 10).show(truncate=False)\n",
    "a.coalesce(2)\n",
    "(a.rdd.getNumPartitions())\n",
    "a.repartition(8)"
   ]
  },
  {
   "cell_type": "code",
   "execution_count": 22,
   "id": "8f54c65b",
   "metadata": {},
   "outputs": [
    {
     "name": "stdout",
     "output_type": "stream",
     "text": [
      "+-----------+--------+------+--------------------+------+----+-----+-----+----------------+-------+-----+--------+\n",
      "|PassengerId|Survived|Pclass|                Name|   Sex| Age|SibSp|Parch|          Ticket|   Fare|Cabin|Embarked|\n",
      "+-----------+--------+------+--------------------+------+----+-----+-----+----------------+-------+-----+--------+\n",
      "|          1|       0|     3|Braund, Mr. Owen ...|  male|  22|    1|    0|       A/5 21171|   7.25| null|       S|\n",
      "|          2|       1|     1|Cumings, Mrs. Joh...|female|  38|    1|    0|        PC 17599|71.2833|  C85|       C|\n",
      "|          3|       1|     3|Heikkinen, Miss. ...|female|  26|    0|    0|STON/O2. 3101282|  7.925| null|       S|\n",
      "|          4|       1|     1|Futrelle, Mrs. Ja...|female|  35|    1|    0|          113803|   53.1| C123|       S|\n",
      "|          5|       0|     3|Allen, Mr. Willia...|  male|  35|    0|    0|          373450|   8.05| null|       S|\n",
      "|          6|       0|     3|    Moran, Mr. James|  male|null|    0|    0|          330877| 8.4583| null|       Q|\n",
      "|          7|       0|     1|McCarthy, Mr. Tim...|  male|  54|    0|    0|           17463|51.8625|  E46|       S|\n",
      "|          8|       0|     3|Palsson, Master. ...|  male|   2|    3|    1|          349909| 21.075| null|       S|\n",
      "|          9|       1|     3|Johnson, Mrs. Osc...|female|  27|    0|    2|          347742|11.1333| null|       S|\n",
      "|         10|       1|     2|Nasser, Mrs. Nich...|female|  14|    1|    0|          237736|30.0708| null|       C|\n",
      "|         11|       1|     3|Sandstrom, Miss. ...|female|   4|    1|    1|         PP 9549|   16.7|   G6|       S|\n",
      "|         12|       1|     1|Bonnell, Miss. El...|female|  58|    0|    0|          113783|  26.55| C103|       S|\n",
      "|         13|       0|     3|Saundercock, Mr. ...|  male|  20|    0|    0|       A/5. 2151|   8.05| null|       S|\n",
      "|         14|       0|     3|Andersson, Mr. An...|  male|  39|    1|    5|          347082| 31.275| null|       S|\n",
      "|         15|       0|     3|Vestrom, Miss. Hu...|female|  14|    0|    0|          350406| 7.8542| null|       S|\n",
      "|         16|       1|     2|Hewlett, Mrs. (Ma...|female|  55|    0|    0|          248706|     16| null|       S|\n",
      "|         17|       0|     3|Rice, Master. Eugene|  male|   2|    4|    1|          382652| 29.125| null|       Q|\n",
      "|         18|       1|     2|Williams, Mr. Cha...|  male|null|    0|    0|          244373|     13| null|       S|\n",
      "|         19|       0|     3|Vander Planke, Mr...|female|  31|    1|    0|          345763|     18| null|       S|\n",
      "|         20|       1|     3|Masselmani, Mrs. ...|female|null|    0|    0|            2649|  7.225| null|       C|\n",
      "+-----------+--------+------+--------------------+------+----+-----+-----+----------------+-------+-----+--------+\n",
      "only showing top 20 rows\n",
      "\n",
      "<class 'pyspark.sql.dataframe.DataFrame'>\n"
     ]
    }
   ],
   "source": [
    "data = session.read.option('header', 'true').csv(\"titanic.csv\")\n",
    "data.show()\n",
    "print(type(data))"
   ]
  },
  {
   "cell_type": "code",
   "execution_count": 23,
   "id": "96a92966",
   "metadata": {},
   "outputs": [
    {
     "name": "stdout",
     "output_type": "stream",
     "text": [
      "+-----------+--------+------+---------------------------------------------------------+------+----+-----+-----+----------------+-------+-----+--------+\n",
      "|PassengerId|Survived|Pclass|Name                                                     |Sex   |Age |SibSp|Parch|Ticket          |Fare   |Cabin|Embarked|\n",
      "+-----------+--------+------+---------------------------------------------------------+------+----+-----+-----+----------------+-------+-----+--------+\n",
      "|1          |0       |3     |Braund, Mr. Owen Harris                                  |male  |22  |1    |0    |A/5 21171       |7.25   |null |S       |\n",
      "|3          |1       |3     |Heikkinen, Miss. Laina                                   |female|26  |0    |0    |STON/O2. 3101282|7.925  |null |S       |\n",
      "|5          |0       |3     |Allen, Mr. William Henry                                 |male  |35  |0    |0    |373450          |8.05   |null |S       |\n",
      "|6          |0       |3     |Moran, Mr. James                                         |male  |null|0    |0    |330877          |8.4583 |null |Q       |\n",
      "|8          |0       |3     |Palsson, Master. Gosta Leonard                           |male  |2   |3    |1    |349909          |21.075 |null |S       |\n",
      "|9          |1       |3     |Johnson, Mrs. Oscar W (Elisabeth Vilhelmina Berg)        |female|27  |0    |2    |347742          |11.1333|null |S       |\n",
      "|11         |1       |3     |Sandstrom, Miss. Marguerite Rut                          |female|4   |1    |1    |PP 9549         |16.7   |G6   |S       |\n",
      "|13         |0       |3     |Saundercock, Mr. William Henry                           |male  |20  |0    |0    |A/5. 2151       |8.05   |null |S       |\n",
      "|14         |0       |3     |Andersson, Mr. Anders Johan                              |male  |39  |1    |5    |347082          |31.275 |null |S       |\n",
      "|15         |0       |3     |Vestrom, Miss. Hulda Amanda Adolfina                     |female|14  |0    |0    |350406          |7.8542 |null |S       |\n",
      "|17         |0       |3     |Rice, Master. Eugene                                     |male  |2   |4    |1    |382652          |29.125 |null |Q       |\n",
      "|19         |0       |3     |Vander Planke, Mrs. Julius (Emelia Maria Vandemoortele)  |female|31  |1    |0    |345763          |18     |null |S       |\n",
      "|20         |1       |3     |Masselmani, Mrs. Fatima                                  |female|null|0    |0    |2649            |7.225  |null |C       |\n",
      "|23         |1       |3     |\"McGowan, Miss. Anna \"\"Annie\"\"\"                          |female|15  |0    |0    |330923          |8.0292 |null |Q       |\n",
      "|25         |0       |3     |Palsson, Miss. Torborg Danira                            |female|8   |3    |1    |349909          |21.075 |null |S       |\n",
      "|26         |1       |3     |Asplund, Mrs. Carl Oscar (Selma Augusta Emilia Johansson)|female|38  |1    |5    |347077          |31.3875|null |S       |\n",
      "|27         |0       |3     |Emir, Mr. Farred Chehab                                  |male  |null|0    |0    |2631            |7.225  |null |C       |\n",
      "|29         |1       |3     |\"O'Dwyer, Miss. Ellen \"\"Nellie\"\"\"                        |female|null|0    |0    |330959          |7.8792 |null |Q       |\n",
      "|30         |0       |3     |Todoroff, Mr. Lalio                                      |male  |null|0    |0    |349216          |7.8958 |null |S       |\n",
      "|33         |1       |3     |Glynn, Miss. Mary Agatha                                 |female|null|0    |0    |335677          |7.75   |null |Q       |\n",
      "+-----------+--------+------+---------------------------------------------------------+------+----+-----+-----+----------------+-------+-----+--------+\n",
      "only showing top 20 rows\n",
      "\n"
     ]
    }
   ],
   "source": [
    "rdd3 = data.filter(data.Pclass == 3).show(truncate=False)"
   ]
  },
  {
   "cell_type": "code",
   "execution_count": 28,
   "id": "61d5f208",
   "metadata": {},
   "outputs": [],
   "source": [
    "data1 = [(\"James\",\"\",\"Smith\",\"36636\",\"M\",60000),\n",
    "        (\"Michael\",\"Rose\",\"\",\"40288\",\"M\",70000),\n",
    "        (\"Robert\",\"\",\"Williams\",\"42114\",\"\",400000),\n",
    "        (\"Maria\",\"Anne\",\"Jones\",\"39192\",\"F\",500000),\n",
    "        (\"Jen\",\"Mary\",\"Brown\",\"\",\"F\",0)]"
   ]
  },
  {
   "cell_type": "code",
   "execution_count": 29,
   "id": "56335eda",
   "metadata": {},
   "outputs": [
    {
     "data": {
      "text/plain": [
       "[('James', '', 'Smith', '36636', 'M', 60000),\n",
       " ('Michael', 'Rose', '', '40288', 'M', 70000),\n",
       " ('Robert', '', 'Williams', '42114', '', 400000),\n",
       " ('Maria', 'Anne', 'Jones', '39192', 'F', 500000),\n",
       " ('Jen', 'Mary', 'Brown', '', 'F', 0)]"
      ]
     },
     "execution_count": 29,
     "metadata": {},
     "output_type": "execute_result"
    }
   ],
   "source": [
    "data1\n"
   ]
  },
  {
   "cell_type": "code",
   "execution_count": null,
   "id": "f973824f",
   "metadata": {},
   "outputs": [],
   "source": []
  }
 ],
 "metadata": {
  "kernelspec": {
   "display_name": "Python 3 (ipykernel)",
   "language": "python",
   "name": "python3"
  },
  "language_info": {
   "codemirror_mode": {
    "name": "ipython",
    "version": 3
   },
   "file_extension": ".py",
   "mimetype": "text/x-python",
   "name": "python",
   "nbconvert_exporter": "python",
   "pygments_lexer": "ipython3",
   "version": "3.8.0"
  }
 },
 "nbformat": 4,
 "nbformat_minor": 5
}
